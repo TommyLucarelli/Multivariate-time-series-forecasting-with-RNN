{
 "metadata": {
  "kernelspec": {
   "language": "python",
   "display_name": "Python 3",
   "name": "python3"
  },
  "language_info": {
   "pygments_lexer": "ipython3",
   "nbconvert_exporter": "python",
   "version": "3.6.4",
   "file_extension": ".py",
   "codemirror_mode": {
    "name": "ipython",
    "version": 3
   },
   "name": "python",
   "mimetype": "text/x-python"
  }
 },
 "nbformat_minor": 4,
 "nbformat": 4,
 "cells": [
  {
   "cell_type": "code",
   "source": [
    "import tensorflow as tf\n",
    "import numpy as np\n",
    "import os\n",
    "import random\n",
    "import pandas as pd\n",
    "import seaborn as sns\n",
    "from datetime import datetime\n",
    "import matplotlib.pyplot as plt\n",
    "plt.rc('font', size=16)\n",
    "from sklearn.preprocessing import MinMaxScaler\n",
    "import warnings\n",
    "warnings.filterwarnings('ignore')\n",
    "tf.get_logger().setLevel('ERROR')\n",
    "\n",
    "tfk = tf.keras\n",
    "tfkl = tf.keras.layers"
   ],
   "metadata": {
    "execution": {
     "iopub.status.busy": "2022-01-10T08:26:52.213307Z",
     "iopub.execute_input": "2022-01-10T08:26:52.213656Z",
     "iopub.status.idle": "2022-01-10T08:27:00.076562Z",
     "shell.execute_reply.started": "2022-01-10T08:26:52.213564Z",
     "shell.execute_reply": "2022-01-10T08:27:00.075508Z"
    },
    "trusted": true
   },
   "execution_count": null,
   "outputs": []
  },
  {
   "cell_type": "code",
   "source": [
    "# Random seed for reproducibility\n",
    "seed = 55\n",
    "\n",
    "random.seed(seed)\n",
    "os.environ['PYTHONHASHSEED'] = str(seed)\n",
    "np.random.seed(seed)\n",
    "tf.random.set_seed(seed)\n",
    "tf.compat.v1.set_random_seed(seed)"
   ],
   "metadata": {
    "execution": {
     "iopub.status.busy": "2022-01-10T08:27:00.080335Z",
     "iopub.execute_input": "2022-01-10T08:27:00.080617Z",
     "iopub.status.idle": "2022-01-10T08:27:00.08637Z",
     "shell.execute_reply.started": "2022-01-10T08:27:00.080585Z",
     "shell.execute_reply": "2022-01-10T08:27:00.085477Z"
    },
    "trusted": true
   },
   "execution_count": null,
   "outputs": []
  },
  {
   "cell_type": "code",
   "source": [
    "dataset = pd.read_csv('../input/dataset/dataset.csv')\n",
    "print(dataset.shape)\n",
    "dataset.head()"
   ],
   "metadata": {
    "execution": {
     "iopub.status.busy": "2022-01-10T08:27:00.087794Z",
     "iopub.execute_input": "2022-01-10T08:27:00.088091Z",
     "iopub.status.idle": "2022-01-10T08:27:00.381773Z",
     "shell.execute_reply.started": "2022-01-10T08:27:00.088054Z",
     "shell.execute_reply": "2022-01-10T08:27:00.380952Z"
    },
    "trusted": true
   },
   "execution_count": null,
   "outputs": []
  },
  {
   "cell_type": "markdown",
   "source": [
    "**Sequential Train-Test split and normalization**"
   ],
   "metadata": {}
  },
  {
   "cell_type": "code",
   "source": [
    "target_labels = dataset.columns"
   ],
   "metadata": {
    "execution": {
     "iopub.status.busy": "2022-01-10T08:27:00.384231Z",
     "iopub.execute_input": "2022-01-10T08:27:00.385126Z",
     "iopub.status.idle": "2022-01-10T08:27:00.390086Z",
     "shell.execute_reply.started": "2022-01-10T08:27:00.385075Z",
     "shell.execute_reply": "2022-01-10T08:27:00.389072Z"
    },
    "trusted": true
   },
   "execution_count": null,
   "outputs": []
  },
  {
   "cell_type": "code",
   "source": [
    "#usare il min max scaler\n",
    "test_size = 864 #valori da predirre online\n",
    "X_train_raw = dataset.iloc[:]\n",
    "# y_train_raw = y.iloc[:-test_size]\n",
    "X_test_raw = dataset.iloc[-test_size:]\n",
    "# y_test_raw = y.iloc[-test_size:]\n",
    "print(X_train_raw.shape, X_test_raw.shape)\n",
    "\n",
    "# Normalize both features and labels\n",
    "#X_min = dataset.min()\n",
    "#X_max = dataset.max()\n",
    "X = dataset.to_numpy()\n",
    "X_min = X.min(axis=0)\n",
    "X_max = X.max(axis=0)\n",
    "\n",
    "X_train_raw = (X_train_raw-X_min)/(X_max-X_min)\n",
    "X_test_raw = (X_test_raw-X_min)/(X_max-X_min)\n",
    "\n",
    "X_train_raw"
   ],
   "metadata": {
    "execution": {
     "iopub.status.busy": "2022-01-10T08:27:00.392023Z",
     "iopub.execute_input": "2022-01-10T08:27:00.39235Z",
     "iopub.status.idle": "2022-01-10T08:27:00.4295Z",
     "shell.execute_reply.started": "2022-01-10T08:27:00.392307Z",
     "shell.execute_reply": "2022-01-10T08:27:00.428594Z"
    },
    "trusted": true
   },
   "execution_count": null,
   "outputs": []
  },
  {
   "cell_type": "code",
   "source": [
    "#telescope: lunghezza della previsione nel futuro\n",
    "\n",
    "def build_sequences(df, target_labels = target_labels, window=200, stride=20, telescope=864):\n",
    "    # Sanity check to avoid runtime errors\n",
    "    assert window % stride == 0\n",
    "    dataset = []\n",
    "    labels = []\n",
    "    temp_df = df.copy().values\n",
    "    temp_label = df[target_labels].copy().values\n",
    "    #temp_label = np.array(temp_label)\n",
    "    padding_len = len(df)%window\n",
    "\n",
    "    if(padding_len != 0):\n",
    "        # Compute padding length\n",
    "        padding_len = window - len(df)%window\n",
    "        padding = np.zeros((padding_len,temp_df.shape[1]), dtype='float64')\n",
    "        temp_df = np.concatenate((padding,df))\n",
    "        print(temp_df.shape)\n",
    "        padding = np.zeros((padding_len,7), dtype='float64')\n",
    "        temp_label = np.concatenate((padding,temp_label))\n",
    "        print(temp_label.shape)\n",
    "        assert len(temp_df) % window == 0\n",
    "\n",
    "    for idx in np.arange(0,len(temp_df)-window-telescope,stride):\n",
    "        dataset.append(temp_df[idx:idx+window])\n",
    "        labels.append(temp_label[idx+window:idx+window+telescope])\n",
    "\n",
    "    dataset = np.array(dataset)\n",
    "    labels = np.array(labels)\n",
    "    return dataset, labels"
   ],
   "metadata": {
    "execution": {
     "iopub.status.busy": "2022-01-10T08:27:00.430818Z",
     "iopub.execute_input": "2022-01-10T08:27:00.431193Z",
     "iopub.status.idle": "2022-01-10T08:27:00.441182Z",
     "shell.execute_reply.started": "2022-01-10T08:27:00.431155Z",
     "shell.execute_reply": "2022-01-10T08:27:00.440549Z"
    },
    "trusted": true
   },
   "execution_count": null,
   "outputs": []
  },
  {
   "cell_type": "code",
   "source": [
    "window = 200 \n",
    "stride = 5\n",
    "telescope = 27"
   ],
   "metadata": {
    "execution": {
     "iopub.status.busy": "2022-01-10T08:27:00.442374Z",
     "iopub.execute_input": "2022-01-10T08:27:00.442822Z",
     "iopub.status.idle": "2022-01-10T08:27:00.457201Z",
     "shell.execute_reply.started": "2022-01-10T08:27:00.442784Z",
     "shell.execute_reply": "2022-01-10T08:27:00.456254Z"
    },
    "trusted": true
   },
   "execution_count": null,
   "outputs": []
  },
  {
   "cell_type": "code",
   "source": [
    "X_train, y_train = build_sequences(X_train_raw, target_labels, window, stride, telescope)\n",
    "X_test, y_test = build_sequences(X_test_raw, target_labels, window, stride, telescope)\n",
    "X_train.shape, y_train.shape, X_test.shape, y_test.shape"
   ],
   "metadata": {
    "execution": {
     "iopub.status.busy": "2022-01-10T08:27:00.458488Z",
     "iopub.execute_input": "2022-01-10T08:27:00.458739Z",
     "iopub.status.idle": "2022-01-10T08:27:00.622321Z",
     "shell.execute_reply.started": "2022-01-10T08:27:00.458708Z",
     "shell.execute_reply": "2022-01-10T08:27:00.621337Z"
    },
    "trusted": true
   },
   "execution_count": null,
   "outputs": []
  },
  {
   "cell_type": "code",
   "source": [
    "input_shape = X_train.shape[1:]\n",
    "output_shape = y_train.shape[1:]\n",
    "batch_size = 32\n",
    "epochs = 200"
   ],
   "metadata": {
    "execution": {
     "iopub.status.busy": "2022-01-10T08:27:00.623972Z",
     "iopub.execute_input": "2022-01-10T08:27:00.624319Z",
     "iopub.status.idle": "2022-01-10T08:27:00.63282Z",
     "shell.execute_reply.started": "2022-01-10T08:27:00.624274Z",
     "shell.execute_reply": "2022-01-10T08:27:00.631893Z"
    },
    "trusted": true
   },
   "execution_count": null,
   "outputs": []
  },
  {
   "cell_type": "code",
   "source": [
    "X_train.shape[1:], y_train.shape[1:]"
   ],
   "metadata": {
    "execution": {
     "iopub.status.busy": "2022-01-10T08:27:00.636549Z",
     "iopub.execute_input": "2022-01-10T08:27:00.637295Z",
     "iopub.status.idle": "2022-01-10T08:27:00.646193Z",
     "shell.execute_reply.started": "2022-01-10T08:27:00.637254Z",
     "shell.execute_reply": "2022-01-10T08:27:00.645301Z"
    },
    "trusted": true
   },
   "execution_count": null,
   "outputs": []
  },
  {
   "cell_type": "code",
   "source": [
    "\n",
    "def build_CONV_LSTM_model(input_shape, output_shape):\n",
    "    # Build the neural network layer by layer\n",
    "    input_layer = tfkl.Input(shape=input_shape, name='Input')\n",
    "\n",
    "    convlstm = tfkl.Bidirectional(tfkl.LSTM(128, return_sequences=True))(input_layer)\n",
    "    convlstm = tfkl.Conv1D(256, 3, padding='same', activation='relu')(convlstm)\n",
    "    convlstm = tfkl.MaxPool1D()(convlstm)\n",
    "    convlstm = tfkl.Bidirectional(tfkl.LSTM(256, return_sequences=True))(convlstm)\n",
    "    convlstm = tfkl.Conv1D(512, 3, padding='same', activation='relu')(convlstm)\n",
    "    convlstm = tfkl.GlobalAveragePooling1D()(convlstm)\n",
    "    convlstm = tfkl.Dropout(.5)(convlstm)\n",
    "\n",
    "    # In order to predict the next values for more than one channel,\n",
    "    # we can use a Dense layer with a number given by telescope*num_channels,\n",
    "    # followed by a Reshape layer to obtain a tensor of dimension \n",
    "    # [None, telescope, num_channels]\n",
    "    dense = tfkl.Dense(output_shape[-1]*output_shape[-2], activation='relu')(convlstm)\n",
    "    output_layer = tfkl.Reshape((output_shape[-2],output_shape[-1]))(dense)\n",
    "    output_layer = tfkl.Conv1D(output_shape[-1], 1, padding='same')(output_layer)\n",
    "\n",
    "    # Connect input and output through the Model class\n",
    "    model = tfk.Model(inputs=input_layer, outputs=output_layer, name='model')\n",
    "\n",
    "    # Compile the model\n",
    "    model.compile(loss=tfk.losses.MeanSquaredError(), optimizer=tfk.optimizers.Adam(learning_rate=1e-4), metrics=['mae'])\n",
    "\n",
    "    # Return the model\n",
    "    return model"
   ],
   "metadata": {
    "execution": {
     "iopub.status.busy": "2022-01-10T08:27:00.647478Z",
     "iopub.execute_input": "2022-01-10T08:27:00.647887Z",
     "iopub.status.idle": "2022-01-10T08:27:00.660089Z",
     "shell.execute_reply.started": "2022-01-10T08:27:00.647843Z",
     "shell.execute_reply": "2022-01-10T08:27:00.65907Z"
    },
    "trusted": true
   },
   "execution_count": null,
   "outputs": []
  },
  {
   "cell_type": "code",
   "source": [
    "model = build_CONV_LSTM_model(input_shape, output_shape)\n",
    "#model.summary()\n",
    "#tfk.utils.plot_model(model, expand_nested=True)"
   ],
   "metadata": {
    "execution": {
     "iopub.status.busy": "2022-01-10T08:27:00.663258Z",
     "iopub.execute_input": "2022-01-10T08:27:00.663516Z",
     "iopub.status.idle": "2022-01-10T08:27:01.897781Z",
     "shell.execute_reply.started": "2022-01-10T08:27:00.663486Z",
     "shell.execute_reply": "2022-01-10T08:27:01.896943Z"
    },
    "trusted": true
   },
   "execution_count": null,
   "outputs": []
  },
  {
   "cell_type": "code",
   "source": [
    "# Train the model\n",
    "history = model.fit(\n",
    "    x = X_train,\n",
    "    y = y_train,\n",
    "    batch_size = batch_size,\n",
    "    epochs = epochs,\n",
    "    validation_split=.1,\n",
    "    callbacks = [\n",
    "        tfk.callbacks.EarlyStopping(monitor='val_loss', mode='min', patience=10, restore_best_weights=True),\n",
    "        tfk.callbacks.ReduceLROnPlateau(monitor='val_loss', mode='min', patience=5, factor=0.5, min_lr=1e-5)\n",
    "    ]\n",
    ").history"
   ],
   "metadata": {
    "execution": {
     "iopub.status.busy": "2022-01-10T08:27:01.898836Z",
     "iopub.execute_input": "2022-01-10T08:27:01.899079Z"
    },
    "trusted": true,
    "pycharm": {
     "name": "#%%\n"
    }
   },
   "execution_count": null,
   "outputs": []
  },
  {
   "cell_type": "code",
   "execution_count": null,
   "outputs": [],
   "source": [
    "model.save('Forecast3AutoReg')"
   ],
   "metadata": {
    "collapsed": false,
    "pycharm": {
     "name": "#%%\n"
    }
   }
  }
 ]
}